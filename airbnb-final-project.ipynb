{
 "cells": [
  {
   "cell_type": "markdown",
   "metadata": {},
   "source": [
    "# Exploratory Analysis"
   ]
  },
  {
   "cell_type": "code",
   "execution_count": 1,
   "metadata": {
    "execution": {
     "iopub.execute_input": "2021-11-19T14:15:17.780077Z",
     "iopub.status.busy": "2021-11-19T14:15:17.779772Z",
     "iopub.status.idle": "2021-11-19T14:15:17.842367Z",
     "shell.execute_reply": "2021-11-19T14:15:17.841692Z",
     "shell.execute_reply.started": "2021-11-19T14:15:17.780048Z"
    }
   },
   "outputs": [],
   "source": [
    "import numpy as np # linear algebra\n",
    "import pandas as pd # data processing, CSV file I/O (e.g. pd.read_csv)\n",
    "# df = pd.read_csv('/kaggle/input/duke-cs671-fall21-airbnb-availability-data/train.csv')\n",
    "# test_df = pd.read_csv('/kaggle/input/duke-cs671-fall21-airbnb-availability-data/test.csv')\n",
    "\n",
    "# If doing this on your machine...\n",
    "df = pd.read_csv('../data/train.csv')\n",
    "test_df = pd.read_csv('../data/test.csv')"
   ]
  },
  {
   "cell_type": "markdown",
   "metadata": {},
   "source": [
    "## Basic information about the dataset\n",
    "Number of rows: 7471"
   ]
  },
  {
   "cell_type": "code",
   "execution_count": 2,
   "metadata": {
    "execution": {
     "iopub.execute_input": "2021-11-14T17:07:43.647957Z",
     "iopub.status.busy": "2021-11-14T17:07:43.646827Z",
     "iopub.status.idle": "2021-11-14T17:07:43.654116Z",
     "shell.execute_reply": "2021-11-14T17:07:43.653092Z",
     "shell.execute_reply.started": "2021-11-14T17:07:43.647901Z"
    }
   },
   "outputs": [
    {
     "name": "stdout",
     "output_type": "stream",
     "text": [
      "Index(['id', 'Decision', 'Host_response_time', 'Host_is_superhost',\n",
      "       'Host_has_profile_pic', 'Host_identity_verified', 'Neighbourhood',\n",
      "       'Property_type', 'Room_type', 'Accommodates', 'Bathrooms_text',\n",
      "       'Bedrooms', 'Beds', 'Essentials', 'Cooking', 'Balcony', 'Parking',\n",
      "       'Price', 'Number_of_reviews', 'Review_scores_rating',\n",
      "       'Instant_bookable', 'Month'],\n",
      "      dtype='object')\n"
     ]
    }
   ],
   "source": [
    "print(df.columns)"
   ]
  },
  {
   "cell_type": "code",
   "execution_count": 3,
   "metadata": {
    "execution": {
     "iopub.execute_input": "2021-11-14T16:53:46.398542Z",
     "iopub.status.busy": "2021-11-14T16:53:46.397603Z",
     "iopub.status.idle": "2021-11-14T16:53:46.406253Z",
     "shell.execute_reply": "2021-11-14T16:53:46.405164Z",
     "shell.execute_reply.started": "2021-11-14T16:53:46.398486Z"
    }
   },
   "outputs": [
    {
     "name": "stdout",
     "output_type": "stream",
     "text": [
      "Index(['Host_response_time', 'Host_is_superhost', 'Host_has_profile_pic',\n",
      "       'Host_identity_verified', 'Property_type', 'Room_type',\n",
      "       'Bathrooms_text', 'Price', 'Instant_bookable', 'Month'],\n",
      "      dtype='object')\n"
     ]
    }
   ],
   "source": [
    "# Let's look at categorical variables to start...how should we encode?\n",
    "cat_vars = df.columns[df.dtypes=='object']\n",
    "print(cat_vars)"
   ]
  },
  {
   "cell_type": "markdown",
   "metadata": {},
   "source": [
    "Out of all of these, it looks like all of these columns except for \"Price\" should be encoded. Let's look at what the encodings should be.\n",
    "\n"
   ]
  },
  {
   "cell_type": "code",
   "execution_count": 4,
   "metadata": {
    "execution": {
     "iopub.execute_input": "2021-11-14T16:55:25.15301Z",
     "iopub.status.busy": "2021-11-14T16:55:25.152712Z",
     "iopub.status.idle": "2021-11-14T16:55:25.167152Z",
     "shell.execute_reply": "2021-11-14T16:55:25.166233Z",
     "shell.execute_reply.started": "2021-11-14T16:55:25.152967Z"
    }
   },
   "outputs": [
    {
     "name": "stdout",
     "output_type": "stream",
     "text": [
      "Host_response_time\n",
      "{nan, 'within a day', 'within a few hours', 'a few days or more', 'within an hour'}\n",
      "----\n",
      "Host_is_superhost\n",
      "{nan, 't', 'f'}\n",
      "----\n",
      "Host_has_profile_pic\n",
      "{nan, 't', 'f'}\n",
      "----\n",
      "Host_identity_verified\n",
      "{nan, 't', 'f'}\n",
      "----\n",
      "Property_type\n",
      "{'Private room in house', 'Shared room in rental unit', 'Entire apartment', 'Private room', 'Entire residential home', 'Entire condominium', 'Private room in residential home', 'Entire guesthouse', 'Room in bed and breakfast', 'Farm stay', 'Private room in condominium (condo)', 'Room in boutique hotel', 'Private room in condominium', 'Yurt', 'Entire cabin', 'Private room in bungalow', 'Entire chalet', 'Private room in cabin', 'Private room in hostel', 'Shipping container', 'Entire rental unit', 'Private room in townhouse', 'Entire house', 'Private room in hut', 'Camper/RV', 'Shared room in house', 'Shared room in hostel', 'Campsite', 'Casa particular (Cuba)', 'Entire place', 'Shared room in apartment', 'Casa particular', 'Private room in guesthouse', 'Entire bungalow', 'Private room in rental unit', 'Tent', 'Entire guest suite', 'Private room in farm stay', 'Bus', 'Entire villa', 'Private room in camper/rv', 'Private room in guest suite', 'Entire cottage', 'Entire loft', 'Treehouse', 'Shared room in residential home', 'Room in hotel', 'Private room in cottage', 'Private room in castle', 'Private room in apartment', 'Tiny house', 'Entire townhouse', 'Entire condominium (condo)', 'Private room in treehouse', 'Private room in bed and breakfast'}\n",
      "----\n",
      "Room_type\n",
      "{'Shared room', 'Hotel room', 'Entire home/apt', 'Private room'}\n",
      "----\n",
      "Bathrooms_text\n",
      "{'4 baths', 'Half-bath', 'Private half-bath', '0 shared baths', '5.5 baths', '6.5 baths', '1 bath', '1.5 shared baths', '2 shared baths', '1 private bath', '7 baths', '6 baths', '2.5 shared baths', '2.5 baths', '3.5 baths', '0 baths', '3 baths', '5 baths', '2 baths', '1 shared bath', '4.5 baths', '1.5 baths', '9 baths'}\n",
      "----\n",
      "Instant_bookable\n",
      "{'t', 'f'}\n",
      "----\n",
      "Month\n",
      "{'August', 'July', 'September', 'June'}\n",
      "----\n"
     ]
    }
   ],
   "source": [
    "for cat in cat_vars.drop(\"Price\"):\n",
    "    print(cat)\n",
    "    print(set(df[cat]))\n",
    "    print(\"----\")"
   ]
  },
  {
   "cell_type": "markdown",
   "metadata": {},
   "source": [
    "OK -- looks like we have some interesting variables that are not uniform. The following transformations are going to be required:\n",
    "\n",
    "#### Host_response_time\n",
    "This encoding could be on a scale from 1 (quickest) to 4 (slowest). Using this scale will allow this column to be useful in any linear models that might be used (e.g., Logistic regression or SVM).\n",
    "* within an hour -- 1\n",
    "* within a few hours -- 2\n",
    "* within a day -- 3\n",
    "* a few days or more -- 4\n",
    "* NaN or other -- 5 (this is required in the case that the test data doesn't map correctly)\n",
    "\n",
    "#### Host_is_superhost, Host_has_profile_pic, Host_identity_verified, Instant_bookable\n",
    "These are all boolean, so I will encode them as 0 (false) or 1 (true). If no value provided, then I will assume false for these values as well.\n",
    "\n",
    "#### Property type\n",
    "There is a lot of variation in this text, and it looks like the essential information is contained in other variables: the Room_type feature denotes whether the property is shared, prive, an entire home, or in a hotel, and the price will give some indication of the luxuriousness of the accommodation. However, there still is some information that might be useful here. Namely, I could see users looking for a \"rustic\" accommodation (one that is in the countryside or in a cabin), or a \"special\" accommodation (a non-traditional accommodation). This is relatively subjective, but I will create two boolean variables for these features, defined as follows:\n",
    "* Rustic. 1 if description contains any of the following words: cabin, farm, yurt, tent, camp. 0 otherwise.\n",
    "* Special. 1 if description contains any of the following words: camper, rv, tree, castle, bus,van. 0 otherwise.\n",
    "\n",
    "I would expect that these features would make the locations less available, since they would be outside of normal accommodations.\n",
    "\n",
    "#### Bathroom Texts\n",
    "This text contains a number and information on whether the bathroom is shared. So this number will be extract as a feature, and the feature \"shared\" will be created as a boolean variable, with 1 indicating that the bathroom is shared (if the text contains \"shared\"), 0 otherwise.\n",
    "\n",
    "\n",
    "#### Room Type\n",
    "I will encode the room type based on the criteria below.\n",
    "* Entire home/apt - 1\n",
    "* Hotel room - 2\n",
    "* Private room - 3\n",
    "* Shared room - 4\n",
    "* N/A - 5 (in the case that the value is not in this list)\n",
    "\n",
    "**Depending on performance, it might be worth revisiting this encoding to determine whether dummy variables make more sense.**\n",
    "\n",
    "#### Month\n",
    "Months will be ordered from June to September, 1 to 4, since these 4 months are the only months included in the analysis.\n",
    "\n",
    "**Before encoding, let's see how many columns are NA, indicating that they need to be removed.**"
   ]
  },
  {
   "cell_type": "code",
   "execution_count": 5,
   "metadata": {
    "execution": {
     "iopub.execute_input": "2021-11-19T14:15:23.386399Z",
     "iopub.status.busy": "2021-11-19T14:15:23.385806Z",
     "iopub.status.idle": "2021-11-19T14:15:23.443897Z",
     "shell.execute_reply": "2021-11-19T14:15:23.443030Z",
     "shell.execute_reply.started": "2021-11-19T14:15:23.386363Z"
    }
   },
   "outputs": [
    {
     "data": {
      "text/plain": [
       "1605"
      ]
     },
     "execution_count": 5,
     "metadata": {},
     "output_type": "execute_result"
    }
   ],
   "source": [
    "len(df[df.isnull().any(1)])"
   ]
  },
  {
   "cell_type": "markdown",
   "metadata": {},
   "source": [
    "So there are 1605 rows with at least one NA value in the dataset. If I were to guess, this is likely a function of the place being brand new to AirBnB (and therefore, lacking certain datapoints). "
   ]
  },
  {
   "cell_type": "code",
   "execution_count": 6,
   "metadata": {},
   "outputs": [
    {
     "name": "stdout",
     "output_type": "stream",
     "text": [
      "858\n"
     ]
    }
   ],
   "source": [
    "print(len(df[df['Host_response_time'].isnull()]))"
   ]
  },
  {
   "cell_type": "code",
   "execution_count": 7,
   "metadata": {},
   "outputs": [
    {
     "data": {
      "text/html": [
       "<div>\n",
       "<style scoped>\n",
       "    .dataframe tbody tr th:only-of-type {\n",
       "        vertical-align: middle;\n",
       "    }\n",
       "\n",
       "    .dataframe tbody tr th {\n",
       "        vertical-align: top;\n",
       "    }\n",
       "\n",
       "    .dataframe thead th {\n",
       "        text-align: right;\n",
       "    }\n",
       "</style>\n",
       "<table border=\"1\" class=\"dataframe\">\n",
       "  <thead>\n",
       "    <tr style=\"text-align: right;\">\n",
       "      <th></th>\n",
       "      <th>Decision</th>\n",
       "      <th>Host_response_time</th>\n",
       "      <th>Host_is_superhost</th>\n",
       "      <th>Host_has_profile_pic</th>\n",
       "      <th>Host_identity_verified</th>\n",
       "      <th>Neighbourhood</th>\n",
       "      <th>Room_type</th>\n",
       "      <th>Accommodates</th>\n",
       "      <th>Bedrooms</th>\n",
       "      <th>Beds</th>\n",
       "      <th>...</th>\n",
       "      <th>Parking</th>\n",
       "      <th>Price</th>\n",
       "      <th>Number_of_reviews</th>\n",
       "      <th>Review_scores_rating</th>\n",
       "      <th>Instant_bookable</th>\n",
       "      <th>Month</th>\n",
       "      <th>rustic</th>\n",
       "      <th>special</th>\n",
       "      <th>num_baths</th>\n",
       "      <th>bath_is_shared</th>\n",
       "    </tr>\n",
       "  </thead>\n",
       "  <tbody>\n",
       "    <tr>\n",
       "      <th>0</th>\n",
       "      <td>1</td>\n",
       "      <td>1</td>\n",
       "      <td>1</td>\n",
       "      <td>1</td>\n",
       "      <td>1</td>\n",
       "      <td>28806</td>\n",
       "      <td>1</td>\n",
       "      <td>6</td>\n",
       "      <td>3.0</td>\n",
       "      <td>3.0</td>\n",
       "      <td>...</td>\n",
       "      <td>1</td>\n",
       "      <td>164</td>\n",
       "      <td>90</td>\n",
       "      <td>4.93</td>\n",
       "      <td>1</td>\n",
       "      <td>0</td>\n",
       "      <td>1</td>\n",
       "      <td>0</td>\n",
       "      <td>1.0</td>\n",
       "      <td>0</td>\n",
       "    </tr>\n",
       "    <tr>\n",
       "      <th>1</th>\n",
       "      <td>1</td>\n",
       "      <td>1</td>\n",
       "      <td>1</td>\n",
       "      <td>1</td>\n",
       "      <td>1</td>\n",
       "      <td>28804</td>\n",
       "      <td>1</td>\n",
       "      <td>4</td>\n",
       "      <td>1.0</td>\n",
       "      <td>1.0</td>\n",
       "      <td>...</td>\n",
       "      <td>1</td>\n",
       "      <td>101</td>\n",
       "      <td>522</td>\n",
       "      <td>4.69</td>\n",
       "      <td>1</td>\n",
       "      <td>0</td>\n",
       "      <td>0</td>\n",
       "      <td>0</td>\n",
       "      <td>1.0</td>\n",
       "      <td>0</td>\n",
       "    </tr>\n",
       "    <tr>\n",
       "      <th>2</th>\n",
       "      <td>0</td>\n",
       "      <td>2</td>\n",
       "      <td>1</td>\n",
       "      <td>1</td>\n",
       "      <td>1</td>\n",
       "      <td>28806</td>\n",
       "      <td>3</td>\n",
       "      <td>1</td>\n",
       "      <td>1.0</td>\n",
       "      <td>1.0</td>\n",
       "      <td>...</td>\n",
       "      <td>1</td>\n",
       "      <td>32</td>\n",
       "      <td>35</td>\n",
       "      <td>4.83</td>\n",
       "      <td>0</td>\n",
       "      <td>0</td>\n",
       "      <td>0</td>\n",
       "      <td>0</td>\n",
       "      <td>1.0</td>\n",
       "      <td>0</td>\n",
       "    </tr>\n",
       "    <tr>\n",
       "      <th>3</th>\n",
       "      <td>1</td>\n",
       "      <td>1</td>\n",
       "      <td>1</td>\n",
       "      <td>1</td>\n",
       "      <td>1</td>\n",
       "      <td>28803</td>\n",
       "      <td>1</td>\n",
       "      <td>8</td>\n",
       "      <td>2.0</td>\n",
       "      <td>5.0</td>\n",
       "      <td>...</td>\n",
       "      <td>1</td>\n",
       "      <td>381</td>\n",
       "      <td>11</td>\n",
       "      <td>5.00</td>\n",
       "      <td>1</td>\n",
       "      <td>0</td>\n",
       "      <td>0</td>\n",
       "      <td>0</td>\n",
       "      <td>2.0</td>\n",
       "      <td>0</td>\n",
       "    </tr>\n",
       "    <tr>\n",
       "      <th>4</th>\n",
       "      <td>0</td>\n",
       "      <td>1</td>\n",
       "      <td>1</td>\n",
       "      <td>1</td>\n",
       "      <td>1</td>\n",
       "      <td>28805</td>\n",
       "      <td>1</td>\n",
       "      <td>6</td>\n",
       "      <td>3.0</td>\n",
       "      <td>4.0</td>\n",
       "      <td>...</td>\n",
       "      <td>1</td>\n",
       "      <td>238</td>\n",
       "      <td>63</td>\n",
       "      <td>4.70</td>\n",
       "      <td>0</td>\n",
       "      <td>0</td>\n",
       "      <td>0</td>\n",
       "      <td>0</td>\n",
       "      <td>2.0</td>\n",
       "      <td>0</td>\n",
       "    </tr>\n",
       "  </tbody>\n",
       "</table>\n",
       "<p>5 rows × 23 columns</p>\n",
       "</div>"
      ],
      "text/plain": [
       "   Decision  Host_response_time  Host_is_superhost  Host_has_profile_pic  \\\n",
       "0         1                   1                  1                     1   \n",
       "1         1                   1                  1                     1   \n",
       "2         0                   2                  1                     1   \n",
       "3         1                   1                  1                     1   \n",
       "4         0                   1                  1                     1   \n",
       "\n",
       "   Host_identity_verified  Neighbourhood  Room_type  Accommodates  Bedrooms  \\\n",
       "0                       1          28806          1             6       3.0   \n",
       "1                       1          28804          1             4       1.0   \n",
       "2                       1          28806          3             1       1.0   \n",
       "3                       1          28803          1             8       2.0   \n",
       "4                       1          28805          1             6       3.0   \n",
       "\n",
       "   Beds  ...  Parking  Price  Number_of_reviews  Review_scores_rating  \\\n",
       "0   3.0  ...        1    164                 90                  4.93   \n",
       "1   1.0  ...        1    101                522                  4.69   \n",
       "2   1.0  ...        1     32                 35                  4.83   \n",
       "3   5.0  ...        1    381                 11                  5.00   \n",
       "4   4.0  ...        1    238                 63                  4.70   \n",
       "\n",
       "  Instant_bookable  Month  rustic  special  num_baths  bath_is_shared  \n",
       "0                1      0       1        0        1.0               0  \n",
       "1                1      0       0        0        1.0               0  \n",
       "2                0      0       0        0        1.0               0  \n",
       "3                1      0       0        0        2.0               0  \n",
       "4                0      0       0        0        2.0               0  \n",
       "\n",
       "[5 rows x 23 columns]"
      ]
     },
     "execution_count": 7,
     "metadata": {},
     "output_type": "execute_result"
    }
   ],
   "source": [
    "import re\n",
    "def map_data(data):\n",
    "    \"\"\"\n",
    "    This function converts the data to the target format so that it can be processed in the ML\n",
    "    model.\n",
    "    \n",
    "    \"\"\"\n",
    "    \n",
    "    # Make a new copy...since we want to return a new version of\n",
    "    # the data, rather than overwrite the existing version of the\n",
    "    # data.\n",
    "    new_df = data.copy()\n",
    "    \n",
    "    ## Deal with host response time.\n",
    "    host_response_time_map = {\n",
    "        \"within an hour\": 1,\n",
    "        \"within a few hours\": 2,\n",
    "        \"within a day\": 3,\n",
    "        \"a few days or more\": 4\n",
    "    }\n",
    "    new_df['Host_response_time'] = list(map(lambda x: host_response_time_map[x] if x in host_response_time_map else 5, data['Host_response_time']))\n",
    "    \n",
    "    ## Deal with boolean variables\n",
    "    bool_vars = ['Host_is_superhost', 'Host_has_profile_pic', 'Host_identity_verified', 'Instant_bookable']\n",
    "    \n",
    "    for bv in bool_vars:\n",
    "        new_df[bv] = list(map(lambda x: 1 if x=='t' else 0, data[bv]))\n",
    "    \n",
    "    ## Property type\n",
    "    def is_rustic(val):\n",
    "        if(re.search(r'camp|farm|yurt|tent|cabin',val) is None):\n",
    "            return 0\n",
    "        return 1\n",
    "    \n",
    "    new_df['rustic'] = list(map(is_rustic, new_df['Property_type']))\n",
    "    \n",
    "    def is_special(val):\n",
    "        if(re.search(r'camper|rv|tree|castle|bus|van', val) is None):\n",
    "            return 0\n",
    "        return 1\n",
    "    \n",
    "    new_df['special'] = list(map(is_special, new_df['Property_type']))\n",
    "    \n",
    "    \n",
    "    ## Bathroom text\n",
    "    def extract_num(val):\n",
    "        num = re.match(r'[\\d|.]+', val)\n",
    "        if (num is None):\n",
    "            return 0 # Assume no number found...so no baths\n",
    "        return float(num[0])\n",
    "    \n",
    "    new_df['num_baths'] = list(map(extract_num, new_df['Bathrooms_text']))\n",
    "    \n",
    "    def bath_is_shared(val):\n",
    "        if (re.search(r'shared', val) is None):\n",
    "            return 0\n",
    "        return 1\n",
    "    \n",
    "    new_df['bath_is_shared'] = list(map(bath_is_shared, new_df['Bathrooms_text']))\n",
    "    \n",
    "    \n",
    "    ## Room type\n",
    "    \n",
    "    room_type_map = {\n",
    "        \"Entire home/apt\": 1,\n",
    "        \"Hotel room\": 2,\n",
    "        \"Private room\": 3,\n",
    "        \"Shared room\": 4\n",
    "    }\n",
    "    new_df['Room_type'] = list(map(lambda x: room_type_map[x] if x in room_type_map else 5, data['Room_type']))\n",
    "    ## Month\n",
    "    month_map = {\n",
    "        \"June\": 6,\n",
    "        \"July\": 7,\n",
    "        \"August\": 8,\n",
    "        \"September\": 9\n",
    "    }\n",
    "    new_df['Month'] = list(map(lambda x: month_map[x] if x in room_type_map else 0, data['Month']))\n",
    "\n",
    "    # There are bedrooms with null values, let's set NULL to 0 so that\n",
    "    # we can turn that value into something meaningful.\n",
    "    new_df['Bedrooms'] = data['Bedrooms'].fillna(0)\n",
    "    \n",
    "    ## Price needs to be converted to a number, too.\n",
    "    new_df[\"Price\"] = [re.search(r'\\d+', val)[0] for val in data[\"Price\"]]\n",
    "    \n",
    "    ## If there are no ratings, a special value of -1 is applied. \n",
    "    new_df['Review_scores_rating'] = data['Review_scores_rating'].fillna(-1)\n",
    "    \n",
    "    # If there are no beds included (NaN), then replace with zero.\n",
    "    new_df['Beds'] = data['Beds'].fillna(0)\n",
    "    new_df = new_df.drop(columns=\"id\")\n",
    "    ## Return this new DataFrame without the columns that\n",
    "    # were replaced through this map.\n",
    "    return new_df.drop(columns=['Property_type','Bathrooms_text'])\n",
    "\n",
    "nd = map_data(df)\n",
    "nd.head()"
   ]
  },
  {
   "cell_type": "markdown",
   "metadata": {},
   "source": [
    "# Exploratory Analysis"
   ]
  },
  {
   "cell_type": "code",
   "execution_count": 8,
   "metadata": {},
   "outputs": [
    {
     "data": {
      "text/plain": [
       "[<matplotlib.lines.Line2D at 0x7fd7706fa4c0>]"
      ]
     },
     "execution_count": 8,
     "metadata": {},
     "output_type": "execute_result"
    },
    {
     "data": {
      "image/png": "[encoded data removed]",
      "text/plain": [
       "<Figure size 432x288 with 1 Axes>"
      ]
     },
     "metadata": {
      "needs_background": "light"
     },
     "output_type": "display_data"
    }
   ],
   "source": [
    "# Let's see if we can use PCA to determine clusters.\n",
    "from sklearn.decomposition import PCA\n",
    "import matplotlib.pyplot as plt\n",
    "pca = PCA(n_components=7)\n",
    "\n",
    "pca.fit(nd.drop(columns=[\"Decision\"]))\n",
    "plt.plot(pca.explained_variance_/np.sum(pca.explained_variance_),lw=4)"
   ]
  },
  {
   "cell_type": "code",
   "execution_count": 9,
   "metadata": {},
   "outputs": [
    {
     "data": {
      "text/plain": [
       "<matplotlib.collections.PathCollection at 0x7fd771cd5550>"
      ]
     },
     "execution_count": 9,
     "metadata": {},
     "output_type": "execute_result"
    },
    {
     "data": {
      "image/png": "[encoded data removed]",
      "text/plain": [
       "<Figure size 432x288 with 1 Axes>"
      ]
     },
     "metadata": {
      "needs_background": "light"
     },
     "output_type": "display_data"
    }
   ],
   "source": [
    "nd_avail = pca.transform(nd[nd[\"Decision\"]==0].drop(columns=[\"Decision\"]))\n",
    "plt.scatter(nd_avail[:,0],nd_avail[:,1],alpha=0.2)\n",
    "nd_not_avail = pca.transform(nd[nd[\"Decision\"]==1].drop(columns=[\"Decision\"]))\n",
    "plt.scatter(nd_not_avail[:,0],nd_not_avail[:,1],alpha=0.2)"
   ]
  },
  {
   "cell_type": "markdown",
   "metadata": {},
   "source": [
    "Based on the above, it looks like the data's variance can be explained by primarily two principal components, and the data is mixed between these two, so I shouldn't expect that my models will be able to split the two very well."
   ]
  },
  {
   "cell_type": "code",
   "execution_count": 10,
   "metadata": {},
   "outputs": [
    {
     "data": {
      "text/plain": [
       "(array([2736.,    0.,    0.,    0.,    0.,    0.,    0.,    0.,    0.,\n",
       "        4735.]),\n",
       " array([0. , 0.1, 0.2, 0.3, 0.4, 0.5, 0.6, 0.7, 0.8, 0.9, 1. ]),\n",
       " <BarContainer object of 10 artists>)"
      ]
     },
     "execution_count": 10,
     "metadata": {},
     "output_type": "execute_result"
    },
    {
     "data": {
      "image/png": "[encoded data removed]",
      "text/plain": [
       "<Figure size 432x288 with 1 Axes>"
      ]
     },
     "metadata": {
      "needs_background": "light"
     },
     "output_type": "display_data"
    }
   ],
   "source": [
    "# Let's see how balanced the data is:\n",
    "plt.hist(nd['Decision'])"
   ]
  },
  {
   "cell_type": "code",
   "execution_count": 11,
   "metadata": {},
   "outputs": [
    {
     "name": "stdout",
     "output_type": "stream",
     "text": [
      "Percent of decision 1 is 0.6337839646633788\n",
      "Percent of decision 0 is 0.36621603533662117\n"
     ]
    }
   ],
   "source": [
    "print(f'Percent of decision 1 is {sum(nd[\"Decision\"]/len(nd))}')\n",
    "print(f\"Percent of decision 0 is {1-sum(nd['Decision']/len(nd))}\")"
   ]
  },
  {
   "cell_type": "markdown",
   "metadata": {},
   "source": [
    "So, based on the above, we do NOT have balanced data -- we will want to make sure to consider this when training our model."
   ]
  },
  {
   "cell_type": "code",
   "execution_count": 12,
   "metadata": {},
   "outputs": [
    {
     "data": {
      "text/plain": [
       "RandomForestClassifier()"
      ]
     },
     "execution_count": 12,
     "metadata": {},
     "output_type": "execute_result"
    }
   ],
   "source": [
    "from sklearn.ensemble import RandomForestClassifier\n",
    "from sklearn.model_selection import train_test_split\n",
    "from sklearn.metrics import accuracy_score\n",
    "\n",
    "# Split up the training set...\n",
    "x_train, x_test, y_train, y_test = train_test_split(nd.drop(columns=\"Decision\"), nd[\"Decision\"], test_size=0.2, random_state=1, stratify=nd[\"Decision\"])\n",
    "\n",
    "\n",
    "clf = RandomForestClassifier()\n",
    "\n",
    "clf.fit(x_train, y_train)"
   ]
  },
  {
   "cell_type": "code",
   "execution_count": 13,
   "metadata": {},
   "outputs": [],
   "source": [
    "pred = clf.predict(x_train)"
   ]
  },
  {
   "cell_type": "code",
   "execution_count": 14,
   "metadata": {},
   "outputs": [
    {
     "name": "stdout",
     "output_type": "stream",
     "text": [
      "[[2157   32]\n",
      " [  22 3765]]\n",
      "0.9909638554216867\n"
     ]
    }
   ],
   "source": [
    "from sklearn.metrics import confusion_matrix\n",
    "\n",
    "print(confusion_matrix(y_train, pred))\n",
    "print(accuracy_score(y_train, pred))"
   ]
  },
  {
   "cell_type": "code",
   "execution_count": 15,
   "metadata": {},
   "outputs": [
    {
     "data": {
      "image/png": "[encoded data removed]",
      "text/plain": [
       "<Figure size 432x288 with 1 Axes>"
      ]
     },
     "metadata": {
      "needs_background": "light"
     },
     "output_type": "display_data"
    }
   ],
   "source": [
    "# Let's plot the ROC curve for this.\n",
    "from sklearn.metrics import RocCurveDisplay\n",
    "ax = plt.gca()\n",
    "rfc_disp = RocCurveDisplay.from_estimator(clf, x_test,y_test, ax=ax, alpha=0.8)\n",
    "plt.show()"
   ]
  },
  {
   "cell_type": "markdown",
   "metadata": {},
   "source": [
    "OK -- so my benchmark to beat is an AUC == 0.85. This is what I will try to improve on in future iterations!"
   ]
  },
  {
   "cell_type": "code",
   "execution_count": 16,
   "metadata": {},
   "outputs": [
    {
     "name": "stdout",
     "output_type": "stream",
     "text": [
      "[[382 165]\n",
      " [141 807]]\n",
      "0.7953177257525084\n"
     ]
    }
   ],
   "source": [
    "test_pred = clf.predict(x_test)\n",
    "print(confusion_matrix(y_test, test_pred))\n",
    "print(accuracy_score(y_test, test_pred))"
   ]
  },
  {
   "cell_type": "code",
   "execution_count": 17,
   "metadata": {},
   "outputs": [],
   "source": [
    "# Let's actually generate a prediction result to send in to kaggle.\n",
    "\n",
    "def generate_file(test_ids, pred):\n",
    "    submission = pd.DataFrame({\n",
    "        'id':test_ids,\n",
    "        'Decision': pred\n",
    "    })\n",
    "    \n",
    "    submission.to_csv('../data/submission.csv', index=False)\n"
   ]
  },
  {
   "cell_type": "code",
   "execution_count": 18,
   "metadata": {},
   "outputs": [],
   "source": [
    "# This is how I generate a test file\n",
    "ids = test_df['id']\n",
    "\n",
    "clean_test_data = map_data(test_df)\n",
    "\n",
    "test_preds = clf.predict(clean_test_data)\n",
    "\n",
    "generate_file(ids, test_preds)"
   ]
  },
  {
   "cell_type": "markdown",
   "metadata": {},
   "source": [
    "### Optimizing Random Forest"
   ]
  },
  {
   "cell_type": "code",
   "execution_count": 52,
   "metadata": {},
   "outputs": [],
   "source": [
    "# Let's consider the following hyperparameters:\n",
    "n_estimators=[50,100,200,500]\n",
    "max_depth=[2,5,10]\n",
    "min_samples_split=[2, 5, 10, 20]\n",
    "min_samples_leaf=[1,2,5]"
   ]
  },
  {
   "cell_type": "code",
   "execution_count": 23,
   "metadata": {},
   "outputs": [
    {
     "name": "stdout",
     "output_type": "stream",
     "text": [
      "0.8065841963170408\n"
     ]
    }
   ],
   "source": [
    "from sklearn.model_selection import cross_val_score\n",
    "clf = RandomForestClassifier()\n",
    "scores = cross_val_score(clf,nd.drop(columns=\"Decision\"), nd[\"Decision\"], cv=5)\n",
    "print(np.mean(scores))"
   ]
  },
  {
   "cell_type": "markdown",
   "metadata": {},
   "source": [
    "#### Looking at n_estimators"
   ]
  },
  {
   "cell_type": "code",
   "execution_count": 47,
   "metadata": {},
   "outputs": [
    {
     "name": "stderr",
     "output_type": "stream",
     "text": [
      "/opt/anaconda3/lib/python3.8/site-packages/sklearn/base.py:445: UserWarning: X does not have valid feature names, but RandomForestClassifier was fitted with feature names\n",
      "  warnings.warn(\n",
      "/opt/anaconda3/lib/python3.8/site-packages/sklearn/base.py:445: UserWarning: X does not have valid feature names, but RandomForestClassifier was fitted with feature names\n",
      "  warnings.warn(\n",
      "/opt/anaconda3/lib/python3.8/site-packages/sklearn/base.py:445: UserWarning: X does not have valid feature names, but RandomForestClassifier was fitted with feature names\n",
      "  warnings.warn(\n",
      "/opt/anaconda3/lib/python3.8/site-packages/sklearn/base.py:445: UserWarning: X does not have valid feature names, but RandomForestClassifier was fitted with feature names\n",
      "  warnings.warn(\n",
      "/opt/anaconda3/lib/python3.8/site-packages/sklearn/base.py:445: UserWarning: X does not have valid feature names, but RandomForestClassifier was fitted with feature names\n",
      "  warnings.warn(\n"
     ]
    }
   ],
   "source": [
    "all_scores = []\n",
    "for n_est in n_estimators:\n",
    "    clf = RandomForestClassifier(n_estimators=n_est, oob_score=True)\n",
    "    clf.fit(nd.drop(columns=\"Decision\"), nd[\"Decision\"])\n",
    "#     scores = cross_val_score(clf,nd.drop(columns=\"Decision\"), nd[\"Decision\"], cv=5)\n",
    "    all_scores.append(clf.oob_score_)\n",
    "#     all_scores.append(np.mean(scores))"
   ]
  },
  {
   "cell_type": "code",
   "execution_count": 48,
   "metadata": {},
   "outputs": [
    {
     "data": {
      "text/plain": [
       "[<matplotlib.lines.Line2D at 0x7fd75bdd8610>]"
      ]
     },
     "execution_count": 48,
     "metadata": {},
     "output_type": "execute_result"
    },
    {
     "data": {
      "image/png": "[encoded data removed]",
      "text/plain": [
       "<Figure size 432x288 with 1 Axes>"
      ]
     },
     "metadata": {
      "needs_background": "light"
     },
     "output_type": "display_data"
    }
   ],
   "source": [
    "plt.plot(n_estimators, all_scores)"
   ]
  },
  {
   "cell_type": "code",
   "execution_count": 49,
   "metadata": {},
   "outputs": [
    {
     "name": "stderr",
     "output_type": "stream",
     "text": [
      "/opt/anaconda3/lib/python3.8/site-packages/sklearn/base.py:445: UserWarning: X does not have valid feature names, but RandomForestClassifier was fitted with feature names\n",
      "  warnings.warn(\n",
      "/opt/anaconda3/lib/python3.8/site-packages/sklearn/base.py:445: UserWarning: X does not have valid feature names, but RandomForestClassifier was fitted with feature names\n",
      "  warnings.warn(\n",
      "/opt/anaconda3/lib/python3.8/site-packages/sklearn/base.py:445: UserWarning: X does not have valid feature names, but RandomForestClassifier was fitted with feature names\n",
      "  warnings.warn(\n"
     ]
    }
   ],
   "source": [
    "all_scores = []\n",
    "n_estimators = [400,500, 600]\n",
    "for n_est in n_estimators:\n",
    "    clf = RandomForestClassifier(n_estimators=n_est, oob_score=True)\n",
    "    clf.fit(nd.drop(columns=\"Decision\"), nd[\"Decision\"])\n",
    "#     scores = cross_val_score(clf,nd.drop(columns=\"Decision\"), nd[\"Decision\"], cv=5)\n",
    "    all_scores.append(clf.oob_score_)\n",
    "#     all_scores.append(np.mean(scores))"
   ]
  },
  {
   "cell_type": "code",
   "execution_count": 50,
   "metadata": {},
   "outputs": [
    {
     "data": {
      "text/plain": [
       "[<matplotlib.lines.Line2D at 0x7fd7587a0250>]"
      ]
     },
     "execution_count": 50,
     "metadata": {},
     "output_type": "execute_result"
    },
    {
     "data": {
      "image/png": "[encoded data removed]",
      "text/plain": [
       "<Figure size 432x288 with 1 Axes>"
      ]
     },
     "metadata": {
      "needs_background": "light"
     },
     "output_type": "display_data"
    }
   ],
   "source": [
    "plt.plot(n_estimators, all_scores)"
   ]
  },
  {
   "cell_type": "markdown",
   "metadata": {},
   "source": [
    "So, independent of using all other features, n_estimators=500 has the best results. Note, this might change if using other features, so let's train on multiple combinations of these features."
   ]
  },
  {
   "cell_type": "code",
   "execution_count": 56,
   "metadata": {},
   "outputs": [
    {
     "name": "stdout",
     "output_type": "stream",
     "text": [
      "144\n"
     ]
    }
   ],
   "source": [
    "import itertools\n",
    "arg_arr = [n_estimators, max_depth, min_samples_split, min_samples_leaf]\n",
    "combo = itertools.product(*arg_arr)\n",
    "print(len(list(combo)))"
   ]
  },
  {
   "cell_type": "code",
   "execution_count": null,
   "metadata": {},
   "outputs": [],
   "source": [
    "# TODO - run this on the GPU...this is expected to take a while.\n",
    "all_scores = []\n",
    "for c in combo:\n",
    "    clf = RandomForestClassifier(random_state = 1, \n",
    "                                oob_score = True, \n",
    "                                n_estimators = c[0],\n",
    "                                max_depth = c[1],\n",
    "                                min_samples_split=c[2],\n",
    "                                min_samples_leaf=c[3])\n",
    "    clf.fit(nd.drop(columns=\"Decision\"), nd[\"Decision\"])\n",
    "    all_scores.append(clf.oob_score_)\n",
    "    "
   ]
  },
  {
   "cell_type": "code",
   "execution_count": 34,
   "metadata": {},
   "outputs": [],
   "source": [
    "# So, based on the graph above, the optimal number of estimators is going to be \n",
    "# in the ballpark of 200. Let's refine what values we are looking at:\n",
    "n_estimators = np.arange(170, 230, 5)"
   ]
  },
  {
   "cell_type": "code",
   "execution_count": 57,
   "metadata": {},
   "outputs": [
    {
     "name": "stdout",
     "output_type": "stream",
     "text": [
      "Total run time: 0:00:15.761955\n"
     ]
    }
   ],
   "source": [
    "all_scores = []\n",
    "import datetime\n",
    "\n",
    "begin = datetime.datetime.now()\n",
    "for n_est in n_estimators:\n",
    "    clf = RandomForestClassifier(n_estimators=n_est, random_state=1)\n",
    "    scores = cross_val_score(clf,nd.drop(columns=\"Decision\"), nd[\"Decision\"], cv=3)\n",
    "    all_scores.append(scores)\n",
    "print(\"Total run time:\", datetime.datetime.now()-begin)"
   ]
  },
  {
   "cell_type": "code",
   "execution_count": 36,
   "metadata": {},
   "outputs": [
    {
     "ename": "TypeError",
     "evalue": "from_bounds() takes 4 positional arguments but 12 were given",
     "output_type": "error",
     "traceback": [
      "\u001b[0;31m---------------------------------------------------------------------------\u001b[0m",
      "\u001b[0;31mTypeError\u001b[0m                                 Traceback (most recent call last)",
      "\u001b[0;32m<ipython-input-36-4ac87edae7fc>\u001b[0m in \u001b[0;36m<module>\u001b[0;34m\u001b[0m\n\u001b[1;32m      2\u001b[0m \u001b[0;34m\u001b[0m\u001b[0m\n\u001b[1;32m      3\u001b[0m \u001b[0;31m# Creating axes instance\u001b[0m\u001b[0;34m\u001b[0m\u001b[0;34m\u001b[0m\u001b[0;34m\u001b[0m\u001b[0m\n\u001b[0;32m----> 4\u001b[0;31m \u001b[0max\u001b[0m \u001b[0;34m=\u001b[0m \u001b[0mfig\u001b[0m\u001b[0;34m.\u001b[0m\u001b[0madd_axes\u001b[0m\u001b[0;34m(\u001b[0m\u001b[0mn_estimators\u001b[0m\u001b[0;34m)\u001b[0m\u001b[0;34m\u001b[0m\u001b[0;34m\u001b[0m\u001b[0m\n\u001b[0m\u001b[1;32m      5\u001b[0m \u001b[0;34m\u001b[0m\u001b[0m\n\u001b[1;32m      6\u001b[0m \u001b[0;31m# Creating plot\u001b[0m\u001b[0;34m\u001b[0m\u001b[0;34m\u001b[0m\u001b[0;34m\u001b[0m\u001b[0m\n",
      "\u001b[0;32m/opt/anaconda3/lib/python3.8/site-packages/matplotlib/figure.py\u001b[0m in \u001b[0;36madd_axes\u001b[0;34m(self, *args, **kwargs)\u001b[0m\n\u001b[1;32m   1248\u001b[0m \u001b[0;34m\u001b[0m\u001b[0m\n\u001b[1;32m   1249\u001b[0m             \u001b[0;31m# create the new axes using the axes class given\u001b[0m\u001b[0;34m\u001b[0m\u001b[0;34m\u001b[0m\u001b[0;34m\u001b[0m\u001b[0m\n\u001b[0;32m-> 1250\u001b[0;31m             \u001b[0ma\u001b[0m \u001b[0;34m=\u001b[0m \u001b[0mprojection_class\u001b[0m\u001b[0;34m(\u001b[0m\u001b[0mself\u001b[0m\u001b[0;34m,\u001b[0m \u001b[0mrect\u001b[0m\u001b[0;34m,\u001b[0m \u001b[0;34m**\u001b[0m\u001b[0mkwargs\u001b[0m\u001b[0;34m)\u001b[0m\u001b[0;34m\u001b[0m\u001b[0;34m\u001b[0m\u001b[0m\n\u001b[0m\u001b[1;32m   1251\u001b[0m \u001b[0;34m\u001b[0m\u001b[0m\n\u001b[1;32m   1252\u001b[0m         \u001b[0;32mreturn\u001b[0m \u001b[0mself\u001b[0m\u001b[0;34m.\u001b[0m\u001b[0m_add_axes_internal\u001b[0m\u001b[0;34m(\u001b[0m\u001b[0mkey\u001b[0m\u001b[0;34m,\u001b[0m \u001b[0ma\u001b[0m\u001b[0;34m)\u001b[0m\u001b[0;34m\u001b[0m\u001b[0;34m\u001b[0m\u001b[0m\n",
      "\u001b[0;32m/opt/anaconda3/lib/python3.8/site-packages/matplotlib/axes/_base.py\u001b[0m in \u001b[0;36m__init__\u001b[0;34m(self, fig, rect, facecolor, frameon, sharex, sharey, label, xscale, yscale, box_aspect, **kwargs)\u001b[0m\n\u001b[1;32m    481\u001b[0m             \u001b[0mself\u001b[0m\u001b[0;34m.\u001b[0m\u001b[0m_position\u001b[0m \u001b[0;34m=\u001b[0m \u001b[0mrect\u001b[0m\u001b[0;34m\u001b[0m\u001b[0;34m\u001b[0m\u001b[0m\n\u001b[1;32m    482\u001b[0m         \u001b[0;32melse\u001b[0m\u001b[0;34m:\u001b[0m\u001b[0;34m\u001b[0m\u001b[0;34m\u001b[0m\u001b[0m\n\u001b[0;32m--> 483\u001b[0;31m             \u001b[0mself\u001b[0m\u001b[0;34m.\u001b[0m\u001b[0m_position\u001b[0m \u001b[0;34m=\u001b[0m \u001b[0mmtransforms\u001b[0m\u001b[0;34m.\u001b[0m\u001b[0mBbox\u001b[0m\u001b[0;34m.\u001b[0m\u001b[0mfrom_bounds\u001b[0m\u001b[0;34m(\u001b[0m\u001b[0;34m*\u001b[0m\u001b[0mrect\u001b[0m\u001b[0;34m)\u001b[0m\u001b[0;34m\u001b[0m\u001b[0;34m\u001b[0m\u001b[0m\n\u001b[0m\u001b[1;32m    484\u001b[0m         \u001b[0;32mif\u001b[0m \u001b[0mself\u001b[0m\u001b[0;34m.\u001b[0m\u001b[0m_position\u001b[0m\u001b[0;34m.\u001b[0m\u001b[0mwidth\u001b[0m \u001b[0;34m<\u001b[0m \u001b[0;36m0\u001b[0m \u001b[0;32mor\u001b[0m \u001b[0mself\u001b[0m\u001b[0;34m.\u001b[0m\u001b[0m_position\u001b[0m\u001b[0;34m.\u001b[0m\u001b[0mheight\u001b[0m \u001b[0;34m<\u001b[0m \u001b[0;36m0\u001b[0m\u001b[0;34m:\u001b[0m\u001b[0;34m\u001b[0m\u001b[0;34m\u001b[0m\u001b[0m\n\u001b[1;32m    485\u001b[0m             \u001b[0;32mraise\u001b[0m \u001b[0mValueError\u001b[0m\u001b[0;34m(\u001b[0m\u001b[0;34m'Width and height specified must be non-negative'\u001b[0m\u001b[0;34m)\u001b[0m\u001b[0;34m\u001b[0m\u001b[0;34m\u001b[0m\u001b[0m\n",
      "\u001b[0;31mTypeError\u001b[0m: from_bounds() takes 4 positional arguments but 12 were given"
     ]
    },
    {
     "data": {
      "text/plain": [
       "<Figure size 720x504 with 0 Axes>"
      ]
     },
     "metadata": {},
     "output_type": "display_data"
    }
   ],
   "source": [
    "fig = plt.figure(figsize =(10, 7))\n",
    " \n",
    "# Creating axes instance\n",
    "ax = fig.add_axes(n_estimators)\n",
    " \n",
    "# Creating plot\n",
    "bp = ax.boxplot(all_scores)"
   ]
  },
  {
   "cell_type": "code",
   "execution_count": 40,
   "metadata": {},
   "outputs": [
    {
     "data": {
      "text/plain": [
       "[<matplotlib.lines.Line2D at 0x7fd758609a00>]"
      ]
     },
     "execution_count": 40,
     "metadata": {},
     "output_type": "execute_result"
    },
    {
     "data": {
      "image/png": "[encoded data removed]",
      "text/plain": [
       "<Figure size 432x288 with 1 Axes>"
      ]
     },
     "metadata": {
      "needs_background": "light"
     },
     "output_type": "display_data"
    }
   ],
   "source": [
    "plt.plot(n_estimators, np.mean(all_scores, axis=1))"
   ]
  },
  {
   "cell_type": "code",
   "execution_count": 41,
   "metadata": {},
   "outputs": [
    {
     "data": {
      "text/plain": [
       "array([0.80604953, 0.80618322, 0.80578215, 0.8043087 , 0.80417527,\n",
       "       0.80591566, 0.80564774, 0.80270334, 0.8080572 , 0.80484489,\n",
       "       0.8056481 , 0.80524676])"
      ]
     },
     "execution_count": 41,
     "metadata": {},
     "output_type": "execute_result"
    }
   ],
   "source": [
    "np.mean(all_scores, axis=1)"
   ]
  }
 ],
 "metadata": {
  "kernelspec": {
   "display_name": "Python 3",
   "language": "python",
   "name": "python3"
  },
  "language_info": {
   "codemirror_mode": {
    "name": "ipython",
    "version": 3
   },
   "file_extension": ".py",
   "mimetype": "text/x-python",
   "name": "python",
   "nbconvert_exporter": "python",
   "pygments_lexer": "ipython3",
   "version": "3.8.8"
  }
 },
 "nbformat": 4,
 "nbformat_minor": 4
}
